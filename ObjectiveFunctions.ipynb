{
 "cells": [
  {
   "cell_type": "code",
   "execution_count": 1,
   "metadata": {},
   "outputs": [],
   "source": [
    "from sklearn.datasets import load_boston\n",
    "X, y = load_boston(return_X_y=True)"
   ]
  },
  {
   "cell_type": "code",
   "execution_count": 5,
   "metadata": {},
   "outputs": [
    {
     "data": {
      "text/plain": [
       "Text(0.5, 1.0, 'Distribution of Housing Prices')"
      ]
     },
     "execution_count": 5,
     "metadata": {},
     "output_type": "execute_result"
    },
    {
     "data": {
      "image/png": "[encoded data removed]",
      "text/plain": [
       "<Figure size 432x288 with 1 Axes>"
      ]
     },
     "metadata": {
      "needs_background": "light"
     },
     "output_type": "display_data"
    }
   ],
   "source": [
    "import matplotlib.pyplot as plt\n",
    "\n",
    "n, bins, patches = plt.hist(x=y, bins='auto', color='#0504aa',\n",
    "                            alpha=0.7, rwidth=0.85)\n",
    "plt.xlabel('Housing Price')\n",
    "plt.ylabel('Frequency')\n",
    "plt.title('Distribution of Housing Prices')"
   ]
  },
  {
   "cell_type": "code",
   "execution_count": 8,
   "metadata": {},
   "outputs": [],
   "source": [
    "from sklearn.model_selection import train_test_split\n",
    "\n",
    "test_size = .3\n",
    "X_train, X_test, y_train, y_test = train_test_split(X, y, test_size=test_size)"
   ]
  },
  {
   "cell_type": "code",
   "execution_count": 30,
   "metadata": {},
   "outputs": [
    {
     "data": {
      "text/plain": [
       "XGBRegressor(base_score=0.5, booster='gbtree', colsample_bylevel=1,\n",
       "       colsample_bynode=1, colsample_bytree=1, eval_metric='rmsle',\n",
       "       gamma=0, gpu_id=-1, importance_type='gain',\n",
       "       interaction_constraints='', learning_rate=0.300000012,\n",
       "       max_delta_step=0, max_depth=6, min_child_weight=1, missing=nan,\n",
       "       monotone_constraints='()', n_estimators=100, n_jobs=4, nthread=4,\n",
       "       num_parallel_tree=1, objective='reg:gamma', random_state=27,\n",
       "       reg_alpha=0, reg_lambda=1, scale_pos_weight=None, seed=27,\n",
       "       subsample=1, tree_method='exact', validate_parameters=1,\n",
       "       verbosity=None)"
      ]
     },
     "execution_count": 30,
     "metadata": {},
     "output_type": "execute_result"
    }
   ],
   "source": [
    "import xgboost as xgb\n",
    "eval_set = [(X_train, y_train), (X_test, y_test)]\n",
    "\n",
    "rmse_model = xgb.XGBRegressor(objective='reg:squarederror',\n",
    "                              eval_metric=\"rmsle\",\n",
    "                              nthread=4, seed=27)\n",
    "rmsle_model = xgb.XGBRegressor(objective='reg:squaredlogerror',\n",
    "                               eval_metric=\"rmsle\",\n",
    "                               nthread=4, seed=27)\n",
    "gamma_model = xgb.XGBRegressor(objective='reg:gamma',\n",
    "                               eval_metric=\"rmsle\",\n",
    "                               nthread=4, seed=27)\n",
    "\n",
    "rmse_model.fit(X_train, y_train, eval_set=eval_set, verbose=False)\n",
    "rmsle_model.fit(X_train, y_train, eval_set=eval_set, verbose=False)\n",
    "gamma_model.fit(X_train, y_train, eval_set=eval_set, verbose=False)"
   ]
  },
  {
   "cell_type": "code",
   "execution_count": 24,
   "metadata": {},
   "outputs": [
    {
     "name": "stdout",
     "output_type": "stream",
     "text": [
      "RMSLE with squared error objective: 0.13572739921547863\n",
      "RMSLE with squared log error objective: 0.38994512278223104\n",
      "RMSLE with gamma objective: 0.1213614946075695\n"
     ]
    }
   ],
   "source": [
    "import numpy as np\n",
    "def rmsle(y, y0):\n",
    "    return np.sqrt(np.mean(np.square(np.log1p(y) - np.log1p(y0))))\n",
    "\n",
    "print(\"RMSLE with squared error objective:\", rmsle(y_test, rmse_model.predict(X_test)))\n",
    "print(\"RMSLE with squared log error objective:\", rmsle(y_test, rmsle_model.predict(X_test)))\n",
    "print(\"RMSLE with gamma objective:\", rmsle(y_test, gamma_model.predict(X_test)))"
   ]
  },
  {
   "cell_type": "code",
   "execution_count": null,
   "metadata": {},
   "outputs": [],
   "source": []
  }
 ],
 "metadata": {
  "kernelspec": {
   "display_name": "Python 3",
   "language": "python",
   "name": "python3"
  },
  "language_info": {
   "codemirror_mode": {
    "name": "ipython",
    "version": 3
   },
   "file_extension": ".py",
   "mimetype": "text/x-python",
   "name": "python",
   "nbconvert_exporter": "python",
   "pygments_lexer": "ipython3",
   "version": "3.7.3"
  }
 },
 "nbformat": 4,
 "nbformat_minor": 2
}
